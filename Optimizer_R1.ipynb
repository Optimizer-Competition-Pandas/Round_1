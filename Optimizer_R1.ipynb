{
 "cells": [
  {
   "cell_type": "code",
   "execution_count": 11,
   "id": "139608a1",
   "metadata": {},
   "outputs": [
    {
     "data": {
      "text/plain": [
       "MathOptInterface"
      ]
     },
     "execution_count": 11,
     "metadata": {},
     "output_type": "execute_result"
    }
   ],
   "source": [
    "using GLPK\n",
    "using LinearAlgebra\n",
    "using MathOptInterface\n",
    "const MOI = MathOptInterface"
   ]
  },
  {
   "cell_type": "markdown",
   "id": "f76488d5",
   "metadata": {},
   "source": [
    "## Loading Data"
   ]
  },
  {
   "cell_type": "code",
   "execution_count": 3,
   "id": "0d9f997a",
   "metadata": {},
   "outputs": [
    {
     "data": {
      "text/plain": [
       "450-element Vector{String}:\n",
       " \"matrix,row,col\"\n",
       " \"S,72,95\"\n",
       " \"I,J,V\"\n",
       " \"8.0,1.0,-1.0\"\n",
       " \"10.0,1.0,1.0\"\n",
       " \"21.0,1.0,-1.0\"\n",
       " \"43.0,1.0,1.0\"\n",
       " \"50.0,1.0,-1.0\"\n",
       " \"51.0,1.0,1.0\"\n",
       " \"8.0,2.0,1.0\"\n",
       " \"9.0,2.0,-1.0\"\n",
       " \"6.0,3.0,-1.0\"\n",
       " \"12.0,3.0,1.0\"\n",
       " ⋮\n",
       " \"68.0,-0.5196655879984552\"\n",
       " \"75.0,-1.679092922126729\"\n",
       " \"76.0,-9.871766517721002e-18\"\n",
       " \"81.0,-0.3156306692199074\"\n",
       " \"82.0,-1.1541689385811602\"\n",
       " \"83.0,-0.9060345343182166\"\n",
       " \"86.0,-0.8810837748807233\"\n",
       " \"89.0,-1.2796727037563316\"\n",
       " \"91.0,-1.5079118796617184\"\n",
       " \"92.0,0.05468668371062502\"\n",
       " \"94.0,-0.6437641587296247\"\n",
       " \"95.0,-0.8732197170766789\""
      ]
     },
     "execution_count": 3,
     "metadata": {},
     "output_type": "execute_result"
    }
   ],
   "source": [
    "totaltime, totallines = open(\"Q1/T1/R1T1.txt\") do f\n",
    "    global lines = readlines(f);\n",
    "end"
   ]
  },
  {
   "cell_type": "code",
   "execution_count": 4,
   "id": "b15dd4c7",
   "metadata": {},
   "outputs": [
    {
     "data": {
      "text/plain": [
       "is_info_line (generic function with 1 method)"
      ]
     },
     "execution_count": 4,
     "metadata": {},
     "output_type": "execute_result"
    }
   ],
   "source": [
    "function is_info_line(a_line)\n",
    "    a_line_info = split(a_line, \",\");\n",
    "    line_indicator = a_line_info[1];\n",
    "    if cmp(line_indicator, \"matrix\") == 0 || cmp(line_indicator, \"vector\") == 0\n",
    "        return true\n",
    "    end\n",
    "    return false\n",
    "end"
   ]
  },
  {
   "cell_type": "code",
   "execution_count": 5,
   "id": "d4394070",
   "metadata": {},
   "outputs": [
    {
     "data": {
      "text/plain": [
       "get_info_end_line (generic function with 1 method)"
      ]
     },
     "execution_count": 5,
     "metadata": {},
     "output_type": "execute_result"
    }
   ],
   "source": [
    "function get_info_end_line(lines_info, t_start, t_end_file)\n",
    "    current_line = lines_info[t_start];\n",
    "    t = t_start;\n",
    "    for t in t_start:t_end_file\n",
    "        current_line = lines_info[t];\n",
    "        if is_info_line(current_line)\n",
    "            return t-1\n",
    "        end\n",
    "    end\n",
    "    return t_end_file\n",
    "end"
   ]
  },
  {
   "cell_type": "code",
   "execution_count": 6,
   "id": "84cdcf4d",
   "metadata": {},
   "outputs": [
    {
     "data": {
      "text/plain": [
       "fill_matrix (generic function with 1 method)"
      ]
     },
     "execution_count": 6,
     "metadata": {},
     "output_type": "execute_result"
    }
   ],
   "source": [
    "function fill_matrix(A, n_rows, n_cols, values_vector)\n",
    "    for info_line in values_vector\n",
    "        line_info = split(info_line, \",\");\n",
    "        i_v = floor(Int64, parse(Float64, line_info[1]));\n",
    "        j_v = floor(Int64, parse(Float64, line_info[2]));\n",
    "        val = parse(Float64, line_info[3]);\n",
    "        A[i_v, j_v] = val;\n",
    "    end\n",
    "end"
   ]
  },
  {
   "cell_type": "code",
   "execution_count": 7,
   "id": "0e29f4b7",
   "metadata": {},
   "outputs": [
    {
     "data": {
      "text/plain": [
       "fill_vector (generic function with 1 method)"
      ]
     },
     "execution_count": 7,
     "metadata": {},
     "output_type": "execute_result"
    }
   ],
   "source": [
    "function fill_vector(vec, n_elements, values_vector)\n",
    "    for info_line in values_vector\n",
    "        line_info = split(info_line, \",\");\n",
    "        i_v = floor(Int64, parse(Float64, line_info[1]));\n",
    "        val = parse(Float64, line_info[2]);\n",
    "        vec[i_v] = val;\n",
    "    end\n",
    "end"
   ]
  },
  {
   "cell_type": "code",
   "execution_count": 8,
   "id": "45cea9d6",
   "metadata": {},
   "outputs": [
    {
     "data": {
      "text/plain": [
       "read_block (generic function with 1 method)"
      ]
     },
     "execution_count": 8,
     "metadata": {},
     "output_type": "execute_result"
    }
   ],
   "source": [
    "function read_block(t_start)\n",
    "    info_line = lines[t_start];\n",
    "    info = split(info_line, \",\");\n",
    "    t = t_start + 1;\n",
    "    \n",
    "    if cmp(info[1],\"matrix\") == 0\n",
    "        matrix_info_line = lines[t];\n",
    "        matrix_info = split(matrix_info_line, \",\");\n",
    "        matrix_name = matrix_info[1];\n",
    "        num_rows = parse(Int64, matrix_info[2]);\n",
    "        num_cols = parse(Int64, matrix_info[3]);\n",
    "        if cmp(matrix_name, \"S\") == 0\n",
    "            global m = num_rows;\n",
    "            global n = num_cols;\n",
    "            global S = zeros(m, n);\n",
    "        else\n",
    "            @show \"Something is not right here! - id:1\"\n",
    "        end\n",
    "        t = t+1;\n",
    "        IJV_line = lines[t];\n",
    "        if cmp(IJV_line, \"I,J,V\") != 0\n",
    "            @show \"Something is not right here! - id:2\"\n",
    "        end\n",
    "        t = t+1;\n",
    "        t_last = get_info_end_line(lines, t, file_num_lines);\n",
    "        fill_matrix(S, m, n, lines[t:t_last]);\n",
    "        t = t_last+1;\n",
    "        \n",
    "    elseif cmp(info[1],\"vector\") == 0\n",
    "        vector_info_line = lines[t];\n",
    "        vector_info = split(vector_info_line, \",\");\n",
    "        vector_name = vector_info[1];\n",
    "        num_elements = parse(Int64, vector_info[2]);\n",
    "        if parse(Int64, vector_info[3]) != 1\n",
    "            @show \"Something is not right here! - id:3\"\n",
    "        end\n",
    "        l_u_index = 0;\n",
    "        if cmp(vector_name, \"l1\") == 0\n",
    "            global l1 = zeros(num_elements);\n",
    "            l_u_index = 1;\n",
    "        elseif cmp(vector_name, \"u1\") == 0\n",
    "            global u1 = zeros(num_elements);\n",
    "            l_u_index = 2;\n",
    "        else\n",
    "            @show \"Something is not right here! - id:4\"\n",
    "        end\n",
    "        t = t+1;\n",
    "        IV_line = lines[t];\n",
    "        if cmp(IV_line, \"I,V\") != 0\n",
    "            @show \"Something is not right here! - id:5\"\n",
    "        end\n",
    "        t = t+1;\n",
    "        t_last = get_info_end_line(lines, t, file_num_lines);\n",
    "        if l_u_index == 1\n",
    "            fill_vector(l1, num_elements, lines[t:t_last]);\n",
    "        else\n",
    "            fill_vector(u1, num_elements, lines[t:t_last]);\n",
    "        end\n",
    "        t = t_last+1;\n",
    "    end\n",
    "    return t\n",
    "end"
   ]
  },
  {
   "cell_type": "code",
   "execution_count": 9,
   "id": "f25b1b88",
   "metadata": {},
   "outputs": [],
   "source": [
    "file_num_lines = length(lines)\n",
    "m = 0;\n",
    "n = 0;\n",
    "line_counter = 1;\n",
    "while line_counter < file_num_lines\n",
    "    line_counter = read_block(line_counter);\n",
    "end"
   ]
  },
  {
   "cell_type": "markdown",
   "id": "927378a7",
   "metadata": {},
   "source": [
    "## Round 1 Question:"
   ]
  },
  {
   "cell_type": "markdown",
   "id": "9f23e47c",
   "metadata": {},
   "source": [
    "$$\n",
    "find  \\qquad\\qquad v \\\\\n",
    "s.t.: \\quad Sv = 0 \\\\\n",
    " \\qquad\\qquad l^1 \\leq v \\leq u^1\n",
    "$$"
   ]
  },
  {
   "cell_type": "markdown",
   "id": "f100e0cd",
   "metadata": {},
   "source": [
    "### Solving: Simple Objective Function f(v)=0"
   ]
  },
  {
   "cell_type": "code",
   "execution_count": 12,
   "id": "3e56d719",
   "metadata": {},
   "outputs": [],
   "source": [
    "optimizer = GLPK.Optimizer()\n",
    "v = MOI.add_variables(optimizer, n)\n",
    "# ------------------------------------------------------------------------------------\n",
    "objective_function = MOI.ScalarAffineFunction(MOI.ScalarAffineTerm.(zeros(n), v), 0.0)\n",
    "MOI.set(optimizer, \n",
    "        MOI.ObjectiveFunction{MOI.ScalarAffineFunction{Float64}}(),\n",
    "        objective_function)\n",
    "MOI.set(optimizer, MOI.ObjectiveSense(), MOI.MIN_SENSE)\n",
    "# ------------------------------------------------------------------------------------\n",
    "for i in 1:n\n",
    "        MOI.add_constraint(optimizer, \n",
    "                           MOI.SingleVariable(v[i]), \n",
    "                           MOI.Interval(l1[i], u1[i]))\n",
    "end\n",
    "# ------------------------------------------------------------------------------------\n",
    "for (i,row) in enumerate(eachrow(S))\n",
    "        row_function = MOI.ScalarAffineFunction(MOI.ScalarAffineTerm.(row, v), 0.0);\n",
    "        MOI.add_constraint(optimizer, row_function, MOI.EqualTo(0.0))\n",
    "end"
   ]
  },
  {
   "cell_type": "code",
   "execution_count": 14,
   "id": "2430fae8",
   "metadata": {},
   "outputs": [],
   "source": [
    "MOI.optimize!(optimizer)\n",
    "status = MOI.get(optimizer, MOI.TerminationStatus())\n",
    "if status != MOI.OPTIMAL\n",
    "    @show \"Unsuccessful to reach optimal value\"\n",
    "end\n",
    "v0 = MOI.get(optimizer, MOI.VariablePrimal(), v);"
   ]
  },
  {
   "cell_type": "markdown",
   "id": "c34a2fef",
   "metadata": {},
   "source": [
    "## Saving"
   ]
  },
  {
   "cell_type": "code",
   "execution_count": 15,
   "id": "d83e0f3b",
   "metadata": {},
   "outputs": [],
   "source": [
    "f = open(\"Q1/T1/output.txt\", \"w\") do f\n",
    "  for data_line in v0\n",
    "    println(f, data_line)\n",
    "  end\n",
    "end"
   ]
  }
 ],
 "metadata": {
  "kernelspec": {
   "display_name": "Julia 1.6.1",
   "language": "julia",
   "name": "julia-1.6"
  },
  "language_info": {
   "file_extension": ".jl",
   "mimetype": "application/julia",
   "name": "julia",
   "version": "1.6.1"
  }
 },
 "nbformat": 4,
 "nbformat_minor": 5
}
